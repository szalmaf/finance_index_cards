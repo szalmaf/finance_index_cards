{
 "cells": [
  {
   "cell_type": "markdown",
   "metadata": {},
   "source": [
    "Useful latex sites:\n",
    "\n",
    "https://oeis.org/wiki/List_of_LaTeX_mathematical_symbols\n",
    "\n",
    "https://www.sharelatex.com/learn/Integrals,_sums_and_limits"
   ]
  },
  {
   "cell_type": "markdown",
   "metadata": {},
   "source": [
    "# Stochastic Calculus 1"
   ]
  },
  {
   "cell_type": "markdown",
   "metadata": {},
   "source": [
    "## L1"
   ]
  },
  {
   "cell_type": "markdown",
   "metadata": {},
   "source": [
    "### **Probabilty Space**\n",
    "\n",
    "$\\Omega$ - Sample space\n",
    "\n",
    "$\\mathcal{F}$ - Sigma algebra\n",
    "\n",
    "$\\mathbb{P}$ - Probability measure"
   ]
  },
  {
   "cell_type": "markdown",
   "metadata": {},
   "source": [
    "### **Random variable** $X$, $Y$"
   ]
  },
  {
   "cell_type": "markdown",
   "metadata": {},
   "source": [
    "### **Expectation value** $\\mathbb{E}[X]$\n",
    "\n",
    "Lebesgue integral\n",
    "\n",
    "Riemann intergral"
   ]
  },
  {
   "cell_type": "markdown",
   "metadata": {},
   "source": [
    "### **Jensen's inequality**"
   ]
  },
  {
   "cell_type": "markdown",
   "metadata": {},
   "source": [
    "Symmetric random walk\n",
    "\n",
    "Stopped (frozen) random walk"
   ]
  },
  {
   "cell_type": "markdown",
   "metadata": {},
   "source": [
    "### **Switching integral and lim**\n",
    "\n",
    "Monotone convergence theorem\n",
    "\n",
    "Dominated convergence theorem"
   ]
  },
  {
   "cell_type": "markdown",
   "metadata": {},
   "source": [
    "### **Expectation of a function $g$ of a random variable $X$**\n",
    "\n",
    "$\\displaystyle\\int_\\Omega g(X(\\omega)) d\\mathbb{P}(\\omega) = \\int_{-\\infty}^\\infty g(x) f_X(x) dx$\n",
    "\n",
    "Standard machine"
   ]
  },
  {
   "cell_type": "markdown",
   "metadata": {},
   "source": [
    "## L2"
   ]
  },
  {
   "cell_type": "markdown",
   "metadata": {},
   "source": [
    "### **Change of measure**\n",
    "\n",
    "Example: $Y(\\omega)=\\sum_{k=1}^\\infty \\displaystyle\\frac{Y_k(\\omega)}{2^k}$ where $ Y \\in [0,1]$\n",
    "\n",
    "**Radon-Nikodyme derivative:** $\\mathbb{E}Z = 1$, $d \\tilde{\\mathbb{P}} = Z d \\mathbb{P}$, $\\displaystyle\\frac{d \\tilde{\\mathbb{P}}}{d \\mathbb{P}} = Z$\n",
    "\n",
    "1) $\\tilde{\\mathbb{E}} [X] = \\mathbb{E} [ZX]$,     2) $\\mathbb{E} [X] = \\tilde{\\mathbb{E}} [X/Z]$"
   ]
  },
  {
   "cell_type": "markdown",
   "metadata": {},
   "source": [
    "$X \\sim N(0,1)$, $\\tilde{X} = X + \\theta$, $\\mathbb{E}[e^{uX}] = e^{u^2/2}$ Moment Generating Function, $Z = e^{-\\theta X - \\theta^2/2}$"
   ]
  },
  {
   "cell_type": "markdown",
   "metadata": {},
   "source": [
    "### **$\\sigma$-algebras and information**: \n",
    "$\\sigma(X)$, $\\sigma(S_0)$, $\\sigma(S_1)$, $\\sigma(S_2)$, "
   ]
  },
  {
   "cell_type": "markdown",
   "metadata": {},
   "source": [
    "### **$X$ is $\\mathcal{G}$ measurable** \n",
    "if $\\sigma(X) \\subset \\mathcal{G}$"
   ]
  },
  {
   "cell_type": "markdown",
   "metadata": {},
   "source": [
    "### **Independence:** \n",
    "sets, $\\sigma$-algebras, random variables"
   ]
  },
  {
   "cell_type": "markdown",
   "metadata": {},
   "source": [
    "### Conditional expectation $\\mathbb{E}[X|\\mathcal{G}]$ r.v.\n",
    "\n",
    "Partial averaging\n",
    "\n",
    "Linearity\n",
    "\n",
    "Taking out what is known\n",
    "\n",
    "Iterated conditioning\n",
    "\n",
    "Independence\n",
    "\n",
    "Jensen's inequality"
   ]
  },
  {
   "cell_type": "markdown",
   "metadata": {},
   "source": [
    "### Martingale\n",
    "\n",
    "$\\mathbb{E}[M(t)|\\mathcal{F}(s)] = M(s)$, where $0 \\leq t \\leq T$"
   ]
  },
  {
   "cell_type": "markdown",
   "metadata": {},
   "source": [
    "## L3"
   ]
  },
  {
   "cell_type": "markdown",
   "metadata": {},
   "source": [
    "### Stohastic process"
   ]
  },
  {
   "cell_type": "markdown",
   "metadata": {},
   "source": [
    "### Martingale (sub-, super-)"
   ]
  },
  {
   "cell_type": "markdown",
   "metadata": {},
   "source": [
    "### Filtration"
   ]
  },
  {
   "cell_type": "markdown",
   "metadata": {},
   "source": [
    "### Adapted process"
   ]
  },
  {
   "cell_type": "markdown",
   "metadata": {},
   "source": [
    "### Brownian motion, Brownian filtration"
   ]
  },
  {
   "cell_type": "markdown",
   "metadata": {},
   "source": [
    "### Quadratic variation"
   ]
  },
  {
   "cell_type": "markdown",
   "metadata": {},
   "source": [
    "### Markov property \n",
    "\n",
    "$\\mathbb{E}[f(X, Y)|\\mathcal{G}](\\omega) = g(X(\\omega))$, where $g(x) = \\mathbb{E}f(x,Y)$"
   ]
  },
  {
   "cell_type": "markdown",
   "metadata": {},
   "source": [
    "### Markov process\n",
    "$\\mathbb{E}[f(X(t))|\\mathcal{F}(s)] = g(X(s))$"
   ]
  },
  {
   "cell_type": "markdown",
   "metadata": {},
   "source": [
    "### Stopping time"
   ]
  },
  {
   "cell_type": "markdown",
   "metadata": {},
   "source": [
    "### Optional sampling theorem"
   ]
  },
  {
   "cell_type": "markdown",
   "metadata": {},
   "source": [
    "## L5"
   ]
  },
  {
   "cell_type": "markdown",
   "metadata": {},
   "source": [
    "### Black Scholes equation, portfolio"
   ]
  },
  {
   "cell_type": "markdown",
   "metadata": {},
   "source": [
    "### European call option, arbitrage-free price"
   ]
  },
  {
   "cell_type": "markdown",
   "metadata": {},
   "source": [
    "### BS differential equation on $(S(t), t)$ plane"
   ]
  },
  {
   "cell_type": "markdown",
   "metadata": {},
   "source": [
    "### Put-call parity"
   ]
  },
  {
   "cell_type": "markdown",
   "metadata": {},
   "source": [
    "### Multi-variable stochastic calculus"
   ]
  },
  {
   "cell_type": "markdown",
   "metadata": {},
   "source": [
    "### Ito product rule"
   ]
  },
  {
   "cell_type": "markdown",
   "metadata": {},
   "source": [
    "### Paul Levy theorem"
   ]
  },
  {
   "cell_type": "markdown",
   "metadata": {},
   "source": [
    "### Levy thm for 2 processes"
   ]
  },
  {
   "cell_type": "markdown",
   "metadata": {},
   "source": [
    "### Correlated stock prices"
   ]
  },
  {
   "cell_type": "markdown",
   "metadata": {},
   "source": [
    "### Changing measure for processes\n",
    "\n",
    "$Z_t = \\mathbb{E}[Z_T|\\mathcal{F_t}]$\n",
    "\n",
    "$\\tilde{\\mathbb{E}}[Y] = \\mathbb{E}[Y Z_t]$ if $Y$ is $\\mathcal{F}_t$ measurable\n",
    "\n",
    "$\\displaystyle\\tilde{\\mathbb{E}}[Y|\\mathcal{F_s}] = \\frac{1}{Z_s} \\mathbb{E}[Y Z_t | \\mathcal{F_s}]$ if $Y$ is $\\mathcal{F}_t$ measurable on $0 \\leq s \\leq t \\leq T$"
   ]
  },
  {
   "cell_type": "markdown",
   "metadata": {},
   "source": [
    "## L6"
   ]
  },
  {
   "cell_type": "markdown",
   "metadata": {},
   "source": [
    "### Change of measure for dynamic setting"
   ]
  },
  {
   "cell_type": "markdown",
   "metadata": {},
   "source": [
    "### Partial averaging"
   ]
  },
  {
   "cell_type": "markdown",
   "metadata": {},
   "source": [
    "### Girsanov theorem"
   ]
  },
  {
   "cell_type": "markdown",
   "metadata": {},
   "source": [
    "### Short rate, money market, discount factor"
   ]
  },
  {
   "cell_type": "markdown",
   "metadata": {},
   "source": [
    "### Black Scholes, risk neutral pricing"
   ]
  },
  {
   "cell_type": "markdown",
   "metadata": {},
   "source": [
    "### Black Scholes with const $\\alpha$ rate of return and $\\sigma$ volatility\n",
    "\n",
    "$dS_t = \\alpha S_t dt + \\sigma S_t dW_t$\n",
    "\n",
    "$S_T = S_0 \\exp\\{\\sigma W_T + (\\alpha - \\frac{1}{2} \\sigma^2)T\\}$\n",
    "\n",
    "$X_0 = \\tilde{\\mathbb{E}}[e^{-rT}(S_T - K)^+]$ martingale\n",
    "\n",
    "$X_0 = S_0 N_{d_+} - e^{-rT} K N_{d_-}$"
   ]
  },
  {
   "cell_type": "code",
   "execution_count": null,
   "metadata": {
    "collapsed": true
   },
   "outputs": [],
   "source": []
  }
 ],
 "metadata": {
  "anaconda-cloud": {},
  "kernelspec": {
   "display_name": "Python [conda env:py36]",
   "language": "python",
   "name": "conda-env-py36-py"
  },
  "language_info": {
   "codemirror_mode": {
    "name": "ipython",
    "version": 3
   },
   "file_extension": ".py",
   "mimetype": "text/x-python",
   "name": "python",
   "nbconvert_exporter": "python",
   "pygments_lexer": "ipython3",
   "version": "3.6.0"
  }
 },
 "nbformat": 4,
 "nbformat_minor": 1
}
