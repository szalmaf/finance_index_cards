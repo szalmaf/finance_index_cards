{
 "cells": [
  {
   "cell_type": "markdown",
   "metadata": {},
   "source": [
    "Useful latex sites:\n",
    "\n",
    "https://oeis.org/wiki/List_of_LaTeX_mathematical_symbols\n",
    "\n",
    "https://www.sharelatex.com/learn/Integrals,_sums_and_limits"
   ]
  },
  {
   "cell_type": "markdown",
   "metadata": {},
   "source": [
    "# Stochastic Calculus 1"
   ]
  },
  {
   "cell_type": "markdown",
   "metadata": {},
   "source": [
    "## L1"
   ]
  },
  {
   "cell_type": "markdown",
   "metadata": {},
   "source": [
    "**Probabilty Space**\n",
    "\n",
    "$\\Omega$ - Sample space\n",
    "\n",
    "$F$ - Sigma algebra\n",
    "\n",
    "$\\mathbb{P}$ - Probability measure"
   ]
  },
  {
   "cell_type": "markdown",
   "metadata": {},
   "source": [
    "**Random variable** $X$, $Y$"
   ]
  },
  {
   "cell_type": "markdown",
   "metadata": {},
   "source": [
    "**Expectation value** $\\mathbb{E}[X]$\n",
    "\n",
    "Lebesgue integral\n",
    "\n",
    "Riemann intergral"
   ]
  },
  {
   "cell_type": "markdown",
   "metadata": {},
   "source": [
    "**Jensen's inequality**"
   ]
  },
  {
   "cell_type": "markdown",
   "metadata": {},
   "source": [
    "Symmetric random walk\n",
    "\n",
    "Stopped (frozen) random walk"
   ]
  },
  {
   "cell_type": "markdown",
   "metadata": {},
   "source": [
    "**Switching integral and lim**\n",
    "\n",
    "Monotone convergence theorem\n",
    "\n",
    "Dominated convergence theorem"
   ]
  },
  {
   "cell_type": "markdown",
   "metadata": {},
   "source": [
    "**Expectation of a function $g$ of a random variable $X$**\n",
    "\n",
    "$\\int_\\Omega g(X(\\omega)) d\\mathbb{P}(\\omega) = \\int_{-\\infty}^\\infty g(x) f_X(x) dx$\n",
    "\n",
    "Standard machine"
   ]
  },
  {
   "cell_type": "markdown",
   "metadata": {},
   "source": [
    "## L2"
   ]
  },
  {
   "cell_type": "markdown",
   "metadata": {},
   "source": [
    "### **Change of measure**\n",
    "\n",
    "Example: $Y(\\omega)=\\sum_{k=1}^\\infty \\displaystyle\\frac{Y_k(\\omega)}{2^k}$ where $ Y \\in [0,1]$\n",
    "\n",
    "**Radon-Nikodyme derivative:** $\\mathbb{E}Z = 1$, $d \\tilde{\\mathbb{P}} = Z d \\mathbb{P}$, $\\displaystyle\\frac{d \\tilde{\\mathbb{P}}}{d \\mathbb{P}} = Z$\n",
    "\n",
    "1) $\\tilde{\\mathbb{E}} [X] = \\mathbb{E} [ZX]$,     2) $\\mathbb{E} [X] = \\tilde{\\mathbb{E}} [X/Z]$"
   ]
  },
  {
   "cell_type": "markdown",
   "metadata": {},
   "source": [
    "$X \\sim N(0,1)$, $\\tilde{X} = X + \\theta$, $\\mathbb{E}[e^{uX}] = e^{u^2/2}$ Moment Generating Function, $Z = e^{-\\theta X - \\theta^2/2}$"
   ]
  },
  {
   "cell_type": "markdown",
   "metadata": {},
   "source": [
    "### **$\\sigma$-algebras and information**: \n",
    "$\\sigma(X)$, $\\sigma(S_0)$, $\\sigma(S_1)$, $\\sigma(S_2)$, "
   ]
  },
  {
   "cell_type": "markdown",
   "metadata": {},
   "source": [
    "### **$X$ is $\\mathcal{G}$ measurable** \n",
    "if $\\sigma(X) \\subset \\mathcal{G}$"
   ]
  },
  {
   "cell_type": "markdown",
   "metadata": {},
   "source": [
    "### **Independence:** \n",
    "sets, $\\sigma$-algebras, random variables"
   ]
  },
  {
   "cell_type": "code",
   "execution_count": null,
   "metadata": {
    "collapsed": true
   },
   "outputs": [],
   "source": []
  }
 ],
 "metadata": {
  "anaconda-cloud": {},
  "kernelspec": {
   "display_name": "Python [conda env:py36]",
   "language": "python",
   "name": "conda-env-py36-py"
  },
  "language_info": {
   "codemirror_mode": {
    "name": "ipython",
    "version": 3
   },
   "file_extension": ".py",
   "mimetype": "text/x-python",
   "name": "python",
   "nbconvert_exporter": "python",
   "pygments_lexer": "ipython3",
   "version": "3.6.0"
  }
 },
 "nbformat": 4,
 "nbformat_minor": 1
}
